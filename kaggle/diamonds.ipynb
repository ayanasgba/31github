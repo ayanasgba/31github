{
 "cells": [
  {
   "cell_type": "code",
   "execution_count": 2,
   "id": "initial_id",
   "metadata": {
    "collapsed": true,
    "ExecuteTime": {
     "end_time": "2023-11-13T17:25:17.434851400Z",
     "start_time": "2023-11-13T17:25:15.584304600Z"
    }
   },
   "outputs": [],
   "source": [
    "from sklearn.model_selection import cross_val_score, train_test_split\n",
    "from sklearn.metrics import mean_absolute_error,mean_absolute_percentage_error\n",
    "from sklearn import preprocessing\n",
    "import lightgbm\n",
    "from sklearn.linear_model import LinearRegression\n",
    "from sklearn.ensemble import RandomForestRegressor\n",
    "from sklearn.tree import DecisionTreeRegressor\n",
    "from sklearn.model_selection import GridSearchCV\n",
    "import pandas as pd\n",
    "import os\n",
    "from os import path"
   ]
  },
  {
   "cell_type": "code",
   "execution_count": 3,
   "outputs": [],
   "source": [
    "df = pd.read_csv(os.path.join('diamonds.csv'),sep=';')\n",
    "diamonds_data = pd.DataFrame(data=df, columns=['carat','cut','color','clarity','depth','table','price','x','y','z'])\n",
    "# diamonds_data"
   ],
   "metadata": {
    "collapsed": false,
    "ExecuteTime": {
     "end_time": "2023-11-13T17:25:32.817687900Z",
     "start_time": "2023-11-13T17:25:32.754947900Z"
    }
   },
   "id": "bc3bab4284b80039"
  },
  {
   "cell_type": "code",
   "execution_count": 4,
   "outputs": [
    {
     "data": {
      "text/plain": "(53940, 10)"
     },
     "execution_count": 4,
     "metadata": {},
     "output_type": "execute_result"
    }
   ],
   "source": [
    "diamonds_data.shape"
   ],
   "metadata": {
    "collapsed": false,
    "ExecuteTime": {
     "end_time": "2023-11-13T17:25:33.557573600Z",
     "start_time": "2023-11-13T17:25:33.541385300Z"
    }
   },
   "id": "a673ee9881dbcf00"
  },
  {
   "cell_type": "code",
   "execution_count": 5,
   "outputs": [
    {
     "name": "stdout",
     "output_type": "stream",
     "text": [
      "<class 'pandas.core.frame.DataFrame'>\n",
      "RangeIndex: 53940 entries, 0 to 53939\n",
      "Data columns (total 10 columns):\n",
      " #   Column   Non-Null Count  Dtype  \n",
      "---  ------   --------------  -----  \n",
      " 0   carat    0 non-null      float64\n",
      " 1   cut      0 non-null      float64\n",
      " 2   color    0 non-null      float64\n",
      " 3   clarity  0 non-null      float64\n",
      " 4   depth    0 non-null      float64\n",
      " 5   table    0 non-null      float64\n",
      " 6   price    0 non-null      float64\n",
      " 7   x        0 non-null      float64\n",
      " 8   y        0 non-null      float64\n",
      " 9   z        0 non-null      float64\n",
      "dtypes: float64(10)\n",
      "memory usage: 4.1 MB\n"
     ]
    }
   ],
   "source": [
    "diamonds_data.info()"
   ],
   "metadata": {
    "collapsed": false,
    "ExecuteTime": {
     "end_time": "2023-11-13T17:25:34.457231700Z",
     "start_time": "2023-11-13T17:25:34.346472100Z"
    }
   },
   "id": "8864b41bdc02ddcf"
  },
  {
   "cell_type": "markdown",
   "source": [
    "Прогнозирование стоимости с помощью остальных колонок"
   ],
   "metadata": {
    "collapsed": false
   },
   "id": "7a1ac55ea8c47ee8"
  },
  {
   "cell_type": "code",
   "execution_count": 11,
   "outputs": [
    {
     "data": {
      "text/plain": "   carat,\"cut\",\"color\",\"clarity\",\"depth\",\"table\",\"price\",\"x\",\"y\",\"z\"\n0                                                 59                \n1                                                 16                \n2                                                 30                \n3                                               1536                \n4                                               4377                ",
      "text/html": "<div>\n<style scoped>\n    .dataframe tbody tr th:only-of-type {\n        vertical-align: middle;\n    }\n\n    .dataframe tbody tr th {\n        vertical-align: top;\n    }\n\n    .dataframe thead th {\n        text-align: right;\n    }\n</style>\n<table border=\"1\" class=\"dataframe\">\n  <thead>\n    <tr style=\"text-align: right;\">\n      <th></th>\n      <th>carat,\"cut\",\"color\",\"clarity\",\"depth\",\"table\",\"price\",\"x\",\"y\",\"z\"</th>\n    </tr>\n  </thead>\n  <tbody>\n    <tr>\n      <th>0</th>\n      <td>59</td>\n    </tr>\n    <tr>\n      <th>1</th>\n      <td>16</td>\n    </tr>\n    <tr>\n      <th>2</th>\n      <td>30</td>\n    </tr>\n    <tr>\n      <th>3</th>\n      <td>1536</td>\n    </tr>\n    <tr>\n      <th>4</th>\n      <td>4377</td>\n    </tr>\n  </tbody>\n</table>\n</div>"
     },
     "execution_count": 11,
     "metadata": {},
     "output_type": "execute_result"
    }
   ],
   "source": [
    "df.head()"
   ],
   "metadata": {
    "collapsed": false,
    "ExecuteTime": {
     "end_time": "2023-11-13T17:26:49.926915400Z",
     "start_time": "2023-11-13T17:26:49.879453300Z"
    }
   },
   "id": "34a1b0956687e6c"
  },
  {
   "cell_type": "markdown",
   "source": [
    "Подготовка данных:\n",
    "- Проверка адекватности колонок(проверка доступности данных)\n",
    "- Обработать пропуски\n",
    "- Перевести категориальные значения в численные"
   ],
   "metadata": {
    "collapsed": false
   },
   "id": "cd2041598b0d760c"
  },
  {
   "cell_type": "code",
   "execution_count": 12,
   "outputs": [
    {
     "data": {
      "text/plain": "carat,\"cut\",\"color\",\"clarity\",\"depth\",\"table\",\"price\",\"x\",\"y\",\"z\"    0\ndtype: int64"
     },
     "execution_count": 12,
     "metadata": {},
     "output_type": "execute_result"
    }
   ],
   "source": [
    "# проверка наличии пропуска\n",
    "df.isna().sum()"
   ],
   "metadata": {
    "collapsed": false,
    "ExecuteTime": {
     "end_time": "2023-11-13T17:26:51.981844400Z",
     "start_time": "2023-11-13T17:26:51.950590600Z"
    }
   },
   "id": "1ac2703e3949ef48"
  },
  {
   "cell_type": "code",
   "execution_count": 13,
   "outputs": [],
   "source": [
    "cat_columns = [cname for cname in df.columns if df[cname].dtype == 'object']\n",
    "\n",
    "encoder = preprocessing.LabelEncoder()\n",
    "\n",
    "for col in cat_columns:\n",
    "    df[col] = encoder.fit_transform(df[col])"
   ],
   "metadata": {
    "collapsed": false,
    "ExecuteTime": {
     "end_time": "2023-11-13T17:26:52.806068800Z",
     "start_time": "2023-11-13T17:26:52.790129300Z"
    }
   },
   "id": "d8e19a95be4b3139"
  },
  {
   "cell_type": "code",
   "execution_count": 14,
   "outputs": [
    {
     "data": {
      "text/plain": "       carat,\"cut\",\"color\",\"clarity\",\"depth\",\"table\",\"price\",\"x\",\"y\",\"z\"\n0                                                     59                \n1                                                     16                \n2                                                     30                \n3                                                   1536                \n4                                                   4377                \n...                                                  ...                \n53935                                              28441                \n53936                                              28389                \n53937                                              26519                \n53938                                              31943                \n53939                                              29991                \n\n[53940 rows x 1 columns]",
      "text/html": "<div>\n<style scoped>\n    .dataframe tbody tr th:only-of-type {\n        vertical-align: middle;\n    }\n\n    .dataframe tbody tr th {\n        vertical-align: top;\n    }\n\n    .dataframe thead th {\n        text-align: right;\n    }\n</style>\n<table border=\"1\" class=\"dataframe\">\n  <thead>\n    <tr style=\"text-align: right;\">\n      <th></th>\n      <th>carat,\"cut\",\"color\",\"clarity\",\"depth\",\"table\",\"price\",\"x\",\"y\",\"z\"</th>\n    </tr>\n  </thead>\n  <tbody>\n    <tr>\n      <th>0</th>\n      <td>59</td>\n    </tr>\n    <tr>\n      <th>1</th>\n      <td>16</td>\n    </tr>\n    <tr>\n      <th>2</th>\n      <td>30</td>\n    </tr>\n    <tr>\n      <th>3</th>\n      <td>1536</td>\n    </tr>\n    <tr>\n      <th>4</th>\n      <td>4377</td>\n    </tr>\n    <tr>\n      <th>...</th>\n      <td>...</td>\n    </tr>\n    <tr>\n      <th>53935</th>\n      <td>28441</td>\n    </tr>\n    <tr>\n      <th>53936</th>\n      <td>28389</td>\n    </tr>\n    <tr>\n      <th>53937</th>\n      <td>26519</td>\n    </tr>\n    <tr>\n      <th>53938</th>\n      <td>31943</td>\n    </tr>\n    <tr>\n      <th>53939</th>\n      <td>29991</td>\n    </tr>\n  </tbody>\n</table>\n<p>53940 rows × 1 columns</p>\n</div>"
     },
     "execution_count": 14,
     "metadata": {},
     "output_type": "execute_result"
    }
   ],
   "source": [
    "df"
   ],
   "metadata": {
    "collapsed": false,
    "ExecuteTime": {
     "end_time": "2023-11-13T17:26:53.052832100Z",
     "start_time": "2023-11-13T17:26:52.963188Z"
    }
   },
   "id": "f385e2353564a5b5"
  },
  {
   "cell_type": "code",
   "execution_count": 18,
   "outputs": [],
   "source": [],
   "metadata": {
    "collapsed": false,
    "ExecuteTime": {
     "end_time": "2023-11-13T17:42:20.308500200Z",
     "start_time": "2023-11-13T17:42:20.287428Z"
    }
   },
   "id": "707d4635bb441b3d"
  },
  {
   "cell_type": "code",
   "execution_count": null,
   "outputs": [],
   "source": [],
   "metadata": {
    "collapsed": false
   },
   "id": "7d10869528a96835"
  }
 ],
 "metadata": {
  "kernelspec": {
   "display_name": "Python 3",
   "language": "python",
   "name": "python3"
  },
  "language_info": {
   "codemirror_mode": {
    "name": "ipython",
    "version": 2
   },
   "file_extension": ".py",
   "mimetype": "text/x-python",
   "name": "python",
   "nbconvert_exporter": "python",
   "pygments_lexer": "ipython2",
   "version": "2.7.6"
  }
 },
 "nbformat": 4,
 "nbformat_minor": 5
}
